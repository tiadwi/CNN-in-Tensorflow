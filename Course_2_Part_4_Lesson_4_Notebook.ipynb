{
  "nbformat": 4,
  "nbformat_minor": 0,
  "metadata": {
    "accelerator": "GPU",
    "colab": {
      "name": "Course 2 - Part 4 - Lesson 4 - Notebook.ipynb",
      "provenance": [],
      "collapsed_sections": [],
      "toc_visible": true,
      "include_colab_link": true
    },
    "kernelspec": {
      "display_name": "Python 3",
      "name": "python3"
    }
  },
  "cells": [
    {
      "cell_type": "markdown",
      "metadata": {
        "id": "view-in-github",
        "colab_type": "text"
      },
      "source": [
        "<a href=\"https://colab.research.google.com/github/tiadwi/CNN-in-Tensorflow/blob/master/Course_2_Part_4_Lesson_4_Notebook.ipynb\" target=\"_parent\"><img src=\"https://colab.research.google.com/assets/colab-badge.svg\" alt=\"Open In Colab\"/></a>"
      ]
    },
    {
      "cell_type": "markdown",
      "metadata": {
        "colab_type": "text",
        "id": "rX8mhOLljYeM"
      },
      "source": [
        "##### Copyright 2019 The TensorFlow Authors."
      ]
    },
    {
      "cell_type": "code",
      "metadata": {
        "cellView": "form",
        "colab_type": "code",
        "id": "BZSlp3DAjdYf",
        "colab": {}
      },
      "source": [
        "#@title Licensed under the Apache License, Version 2.0 (the \"License\");\n",
        "# you may not use this file except in compliance with the License.\n",
        "# You may obtain a copy of the License at\n",
        "#\n",
        "# https://www.apache.org/licenses/LICENSE-2.0\n",
        "#\n",
        "# Unless required by applicable law or agreed to in writing, software\n",
        "# distributed under the License is distributed on an \"AS IS\" BASIS,\n",
        "# WITHOUT WARRANTIES OR CONDITIONS OF ANY KIND, either express or implied.\n",
        "# See the License for the specific language governing permissions and\n",
        "# limitations under the License."
      ],
      "execution_count": 0,
      "outputs": []
    },
    {
      "cell_type": "code",
      "metadata": {
        "colab_type": "code",
        "id": "RXZT2UsyIVe_",
        "outputId": "f75013e6-0ec6-42c1-dc2a-28320cd21343",
        "colab": {
          "base_uri": "https://localhost:8080/",
          "height": 391
        }
      },
      "source": [
        "!wget --no-check-certificate \\\n",
        "    https://storage.googleapis.com/laurencemoroney-blog.appspot.com/horse-or-human.zip \\\n",
        "    -O /tmp/horse-or-human.zip\n",
        "\n",
        "!wget --no-check-certificate \\\n",
        "    https://storage.googleapis.com/laurencemoroney-blog.appspot.com/validation-horse-or-human.zip \\\n",
        "    -O /tmp/validation-horse-or-human.zip\n",
        "  \n",
        "import os\n",
        "import zipfile\n",
        "\n",
        "local_zip = '/tmp/horse-or-human.zip'\n",
        "zip_ref = zipfile.ZipFile(local_zip, 'r')\n",
        "zip_ref.extractall('/tmp/horse-or-human')\n",
        "local_zip = '/tmp/validation-horse-or-human.zip'\n",
        "zip_ref = zipfile.ZipFile(local_zip, 'r')\n",
        "zip_ref.extractall('/tmp/validation-horse-or-human')\n",
        "zip_ref.close()\n",
        "# Directory with our training horse pictures\n",
        "train_horse_dir = os.path.join('/tmp/horse-or-human/horses')\n",
        "\n",
        "# Directory with our training human pictures\n",
        "train_human_dir = os.path.join('/tmp/horse-or-human/humans')\n",
        "\n",
        "# Directory with our training horse pictures\n",
        "validation_horse_dir = os.path.join('/tmp/validation-horse-or-human/horses')\n",
        "\n",
        "# Directory with our training human pictures\n",
        "validation_human_dir = os.path.join('/tmp/validation-horse-or-human/humans')"
      ],
      "execution_count": 0,
      "outputs": [
        {
          "output_type": "stream",
          "text": [
            "--2020-04-24 07:32:33--  https://storage.googleapis.com/laurencemoroney-blog.appspot.com/horse-or-human.zip\n",
            "Resolving storage.googleapis.com (storage.googleapis.com)... 173.194.69.128, 2a00:1450:4013:c00::80\n",
            "Connecting to storage.googleapis.com (storage.googleapis.com)|173.194.69.128|:443... connected.\n",
            "HTTP request sent, awaiting response... 200 OK\n",
            "Length: 149574867 (143M) [application/zip]\n",
            "Saving to: ‘/tmp/horse-or-human.zip’\n",
            "\n",
            "/tmp/horse-or-human 100%[===================>] 142.65M  81.4MB/s    in 1.8s    \n",
            "\n",
            "2020-04-24 07:32:35 (81.4 MB/s) - ‘/tmp/horse-or-human.zip’ saved [149574867/149574867]\n",
            "\n",
            "--2020-04-24 07:32:37--  https://storage.googleapis.com/laurencemoroney-blog.appspot.com/validation-horse-or-human.zip\n",
            "Resolving storage.googleapis.com (storage.googleapis.com)... 173.194.79.128, 2a00:1450:4013:c00::80\n",
            "Connecting to storage.googleapis.com (storage.googleapis.com)|173.194.79.128|:443... connected.\n",
            "HTTP request sent, awaiting response... 200 OK\n",
            "Length: 11480187 (11M) [application/zip]\n",
            "Saving to: ‘/tmp/validation-horse-or-human.zip’\n",
            "\n",
            "/tmp/validation-hor 100%[===================>]  10.95M  33.8MB/s    in 0.3s    \n",
            "\n",
            "2020-04-24 07:32:38 (33.8 MB/s) - ‘/tmp/validation-horse-or-human.zip’ saved [11480187/11480187]\n",
            "\n"
          ],
          "name": "stdout"
        }
      ]
    },
    {
      "cell_type": "markdown",
      "metadata": {
        "colab_type": "text",
        "id": "5oqBkNBJmtUv"
      },
      "source": [
        "## Building a Small Model from Scratch\n",
        "\n",
        "But before we continue, let's start defining the model:\n",
        "\n",
        "Step 1 will be to import tensorflow."
      ]
    },
    {
      "cell_type": "code",
      "metadata": {
        "colab_type": "code",
        "id": "qvfZg3LQbD-5",
        "colab": {}
      },
      "source": [
        "import tensorflow as tf"
      ],
      "execution_count": 0,
      "outputs": []
    },
    {
      "cell_type": "markdown",
      "metadata": {
        "colab_type": "text",
        "id": "BnhYCP4tdqjC"
      },
      "source": [
        "We then add convolutional layers as in the previous example, and flatten the final result to feed into the densely connected layers."
      ]
    },
    {
      "cell_type": "markdown",
      "metadata": {
        "colab_type": "text",
        "id": "gokG5HKpdtzm"
      },
      "source": [
        "Finally we add the densely connected layers. \n",
        "\n",
        "Note that because we are facing a two-class classification problem, i.e. a *binary classification problem*, we will end our network with a [*sigmoid* activation](https://wikipedia.org/wiki/Sigmoid_function), so that the output of our network will be a single scalar between 0 and 1, encoding the probability that the current image is class 1 (as opposed to class 0)."
      ]
    },
    {
      "cell_type": "code",
      "metadata": {
        "colab_type": "code",
        "id": "PixZ2s5QbYQ3",
        "colab": {}
      },
      "source": [
        "model = tf.keras.models.Sequential([\n",
        "    # Note the input shape is the desired size of the image 300x300 with 3 bytes color\n",
        "    # This is the first convolution\n",
        "    tf.keras.layers.Conv2D(16, (3,3), activation='relu', input_shape=(300, 300, 3)),\n",
        "    tf.keras.layers.MaxPooling2D(2, 2),\n",
        "    # The second convolution\n",
        "    tf.keras.layers.Conv2D(32, (3,3), activation='relu'),\n",
        "    tf.keras.layers.MaxPooling2D(2,2),\n",
        "    # The third convolution\n",
        "    tf.keras.layers.Conv2D(64, (3,3), activation='relu'),\n",
        "    tf.keras.layers.MaxPooling2D(2,2),\n",
        "    # The fourth convolution\n",
        "    tf.keras.layers.Conv2D(64, (3,3), activation='relu'),\n",
        "    tf.keras.layers.MaxPooling2D(2,2),\n",
        "    # The fifth convolution\n",
        "    tf.keras.layers.Conv2D(64, (3,3), activation='relu'),\n",
        "    tf.keras.layers.MaxPooling2D(2,2),\n",
        "    # Flatten the results to feed into a DNN\n",
        "    tf.keras.layers.Flatten(),\n",
        "    # 512 neuron hidden layer\n",
        "    tf.keras.layers.Dense(512, activation='relu'),\n",
        "    # Only 1 output neuron. It will contain a value from 0-1 where 0 for 1 class ('horses') and 1 for the other ('humans')\n",
        "    tf.keras.layers.Dense(1, activation='sigmoid')\n",
        "])"
      ],
      "execution_count": 0,
      "outputs": []
    },
    {
      "cell_type": "code",
      "metadata": {
        "colab_type": "code",
        "id": "8DHWhFP_uhq3",
        "colab": {}
      },
      "source": [
        "from tensorflow.keras.optimizers import RMSprop\n",
        "\n",
        "model.compile(loss='binary_crossentropy',\n",
        "              optimizer=RMSprop(lr=1e-4),\n",
        "              metrics=['accuracy'])"
      ],
      "execution_count": 0,
      "outputs": []
    },
    {
      "cell_type": "code",
      "metadata": {
        "colab_type": "code",
        "id": "ClebU9NJg99G",
        "outputId": "06d4c3f2-8927-4aba-d923-f1d87e320962",
        "colab": {
          "base_uri": "https://localhost:8080/",
          "height": 51
        }
      },
      "source": [
        "from tensorflow.keras.preprocessing.image import ImageDataGenerator\n",
        "\n",
        "# All images will be rescaled by 1./255\n",
        "train_datagen = ImageDataGenerator(\n",
        "      rescale=1./255,\n",
        "      rotation_range=40,\n",
        "      width_shift_range=0.2,\n",
        "      height_shift_range=0.2,\n",
        "      shear_range=0.2,\n",
        "      zoom_range=0.2,\n",
        "      horizontal_flip=True,\n",
        "      fill_mode='nearest')\n",
        "\n",
        "validation_datagen = ImageDataGenerator(rescale=1/255)\n",
        "\n",
        "# Flow training images in batches of 128 using train_datagen generator\n",
        "train_generator = train_datagen.flow_from_directory(\n",
        "        '/tmp/horse-or-human/',  # This is the source directory for training images\n",
        "        target_size=(300, 300),  # All images will be resized to 150x150\n",
        "        batch_size=128,\n",
        "        # Since we use binary_crossentropy loss, we need binary labels\n",
        "        class_mode='binary')\n",
        "\n",
        "# Flow training images in batches of 128 using train_datagen generator\n",
        "validation_generator = validation_datagen.flow_from_directory(\n",
        "        '/tmp/validation-horse-or-human/',  # This is the source directory for training images\n",
        "        target_size=(300, 300),  # All images will be resized to 150x150\n",
        "        batch_size=32,\n",
        "        # Since we use binary_crossentropy loss, we need binary labels\n",
        "        class_mode='binary')"
      ],
      "execution_count": 0,
      "outputs": [
        {
          "output_type": "stream",
          "text": [
            "Found 1027 images belonging to 2 classes.\n",
            "Found 256 images belonging to 2 classes.\n"
          ],
          "name": "stdout"
        }
      ]
    },
    {
      "cell_type": "code",
      "metadata": {
        "colab_type": "code",
        "id": "Fb1_lgobv81m",
        "outputId": "4c32bc8a-ff2c-4092-efc9-873c5c27c440",
        "colab": {
          "base_uri": "https://localhost:8080/",
          "height": 1000
        }
      },
      "source": [
        "history = model.fit(\n",
        "      train_generator,\n",
        "      steps_per_epoch=8,  \n",
        "      epochs=100,\n",
        "      verbose=1,\n",
        "      validation_data = validation_generator,\n",
        "      validation_steps=8)"
      ],
      "execution_count": 0,
      "outputs": [
        {
          "output_type": "stream",
          "text": [
            "Epoch 1/100\n",
            "8/8 [==============================] - 18s 2s/step - loss: 0.6893 - accuracy: 0.5361 - val_loss: 0.6614 - val_accuracy: 0.6094\n",
            "Epoch 2/100\n",
            "8/8 [==============================] - 21s 3s/step - loss: 0.6561 - accuracy: 0.6107 - val_loss: 0.6323 - val_accuracy: 0.8398\n",
            "Epoch 3/100\n",
            "8/8 [==============================] - 18s 2s/step - loss: 0.6506 - accuracy: 0.6796 - val_loss: 0.6075 - val_accuracy: 0.6055\n",
            "Epoch 4/100\n",
            "8/8 [==============================] - 18s 2s/step - loss: 0.5846 - accuracy: 0.7241 - val_loss: 0.7734 - val_accuracy: 0.4766\n",
            "Epoch 5/100\n",
            "8/8 [==============================] - 18s 2s/step - loss: 0.5887 - accuracy: 0.7197 - val_loss: 0.7035 - val_accuracy: 0.5508\n",
            "Epoch 6/100\n",
            "8/8 [==============================] - 18s 2s/step - loss: 0.5508 - accuracy: 0.7097 - val_loss: 0.8926 - val_accuracy: 0.5195\n",
            "Epoch 7/100\n",
            "8/8 [==============================] - 18s 2s/step - loss: 0.4993 - accuracy: 0.7241 - val_loss: 0.8550 - val_accuracy: 0.5586\n",
            "Epoch 8/100\n",
            "8/8 [==============================] - 18s 2s/step - loss: 0.4898 - accuracy: 0.7208 - val_loss: 0.6830 - val_accuracy: 0.6172\n",
            "Epoch 9/100\n",
            "8/8 [==============================] - 18s 2s/step - loss: 0.4650 - accuracy: 0.7764 - val_loss: 0.5824 - val_accuracy: 0.6836\n",
            "Epoch 10/100\n",
            "8/8 [==============================] - 20s 3s/step - loss: 0.5096 - accuracy: 0.7500 - val_loss: 1.2250 - val_accuracy: 0.5273\n",
            "Epoch 11/100\n",
            "8/8 [==============================] - 20s 3s/step - loss: 0.5279 - accuracy: 0.7853 - val_loss: 1.1027 - val_accuracy: 0.5195\n",
            "Epoch 12/100\n",
            "8/8 [==============================] - 18s 2s/step - loss: 0.5635 - accuracy: 0.7586 - val_loss: 1.0482 - val_accuracy: 0.5469\n",
            "Epoch 13/100\n",
            "8/8 [==============================] - 18s 2s/step - loss: 0.4049 - accuracy: 0.8020 - val_loss: 0.9530 - val_accuracy: 0.6016\n",
            "Epoch 14/100\n",
            "8/8 [==============================] - 18s 2s/step - loss: 0.5023 - accuracy: 0.7798 - val_loss: 1.0211 - val_accuracy: 0.5977\n",
            "Epoch 15/100\n",
            "8/8 [==============================] - 18s 2s/step - loss: 0.5195 - accuracy: 0.7775 - val_loss: 1.0511 - val_accuracy: 0.5469\n",
            "Epoch 16/100\n",
            "8/8 [==============================] - 18s 2s/step - loss: 0.3821 - accuracy: 0.8343 - val_loss: 1.2270 - val_accuracy: 0.5625\n",
            "Epoch 17/100\n",
            "8/8 [==============================] - 18s 2s/step - loss: 0.4104 - accuracy: 0.8087 - val_loss: 1.2365 - val_accuracy: 0.5781\n",
            "Epoch 18/100\n",
            "8/8 [==============================] - 18s 2s/step - loss: 0.4651 - accuracy: 0.7976 - val_loss: 0.3190 - val_accuracy: 0.8789\n",
            "Epoch 19/100\n",
            "8/8 [==============================] - 20s 3s/step - loss: 0.4537 - accuracy: 0.7939 - val_loss: 1.0634 - val_accuracy: 0.6211\n",
            "Epoch 20/100\n",
            "8/8 [==============================] - 21s 3s/step - loss: 0.4234 - accuracy: 0.8298 - val_loss: 1.0353 - val_accuracy: 0.6406\n",
            "Epoch 21/100\n",
            "8/8 [==============================] - 18s 2s/step - loss: 0.3951 - accuracy: 0.8165 - val_loss: 1.6147 - val_accuracy: 0.5312\n",
            "Epoch 22/100\n",
            "8/8 [==============================] - 18s 2s/step - loss: 0.4087 - accuracy: 0.8065 - val_loss: 1.2835 - val_accuracy: 0.6289\n",
            "Epoch 23/100\n",
            "8/8 [==============================] - 18s 2s/step - loss: 0.3430 - accuracy: 0.8420 - val_loss: 1.0497 - val_accuracy: 0.6406\n",
            "Epoch 24/100\n",
            "8/8 [==============================] - 18s 2s/step - loss: 0.3420 - accuracy: 0.8343 - val_loss: 0.7731 - val_accuracy: 0.7266\n",
            "Epoch 25/100\n",
            "8/8 [==============================] - 18s 2s/step - loss: 0.3944 - accuracy: 0.8154 - val_loss: 1.1321 - val_accuracy: 0.6367\n",
            "Epoch 26/100\n",
            "8/8 [==============================] - 18s 2s/step - loss: 0.3159 - accuracy: 0.8576 - val_loss: 2.1252 - val_accuracy: 0.5234\n",
            "Epoch 27/100\n",
            "8/8 [==============================] - 18s 2s/step - loss: 0.3591 - accuracy: 0.8343 - val_loss: 1.9904 - val_accuracy: 0.5586\n",
            "Epoch 28/100\n",
            "8/8 [==============================] - 20s 3s/step - loss: 0.3189 - accuracy: 0.8584 - val_loss: 1.1469 - val_accuracy: 0.6562\n",
            "Epoch 29/100\n",
            "8/8 [==============================] - 21s 3s/step - loss: 0.3544 - accuracy: 0.8465 - val_loss: 1.0554 - val_accuracy: 0.6719\n",
            "Epoch 30/100\n",
            "8/8 [==============================] - 18s 2s/step - loss: 0.3074 - accuracy: 0.8699 - val_loss: 1.7455 - val_accuracy: 0.5898\n",
            "Epoch 31/100\n",
            "8/8 [==============================] - 18s 2s/step - loss: 0.2872 - accuracy: 0.8654 - val_loss: 1.4532 - val_accuracy: 0.6328\n",
            "Epoch 32/100\n",
            "8/8 [==============================] - 18s 2s/step - loss: 0.2958 - accuracy: 0.8865 - val_loss: 1.5769 - val_accuracy: 0.6406\n",
            "Epoch 33/100\n",
            "8/8 [==============================] - 18s 2s/step - loss: 0.3042 - accuracy: 0.8654 - val_loss: 1.8723 - val_accuracy: 0.5742\n",
            "Epoch 34/100\n",
            "8/8 [==============================] - 18s 2s/step - loss: 0.3056 - accuracy: 0.8509 - val_loss: 1.0781 - val_accuracy: 0.6914\n",
            "Epoch 35/100\n",
            "8/8 [==============================] - 18s 2s/step - loss: 0.4452 - accuracy: 0.8376 - val_loss: 2.0587 - val_accuracy: 0.5039\n",
            "Epoch 36/100\n",
            "8/8 [==============================] - 18s 2s/step - loss: 0.3045 - accuracy: 0.8843 - val_loss: 2.3039 - val_accuracy: 0.5352\n",
            "Epoch 37/100\n",
            "8/8 [==============================] - 20s 3s/step - loss: 0.2831 - accuracy: 0.8838 - val_loss: 1.7617 - val_accuracy: 0.6055\n",
            "Epoch 38/100\n",
            "8/8 [==============================] - 21s 3s/step - loss: 0.2349 - accuracy: 0.9032 - val_loss: 1.2382 - val_accuracy: 0.6836\n",
            "Epoch 39/100\n",
            "8/8 [==============================] - 18s 2s/step - loss: 0.2750 - accuracy: 0.8732 - val_loss: 1.8988 - val_accuracy: 0.5898\n",
            "Epoch 40/100\n",
            "8/8 [==============================] - 18s 2s/step - loss: 0.3118 - accuracy: 0.8554 - val_loss: 1.7860 - val_accuracy: 0.5938\n",
            "Epoch 41/100\n",
            "8/8 [==============================] - 18s 2s/step - loss: 0.2244 - accuracy: 0.9032 - val_loss: 1.0754 - val_accuracy: 0.7148\n",
            "Epoch 42/100\n",
            "8/8 [==============================] - 18s 2s/step - loss: 0.2697 - accuracy: 0.8632 - val_loss: 1.2271 - val_accuracy: 0.6875\n",
            "Epoch 43/100\n",
            "8/8 [==============================] - 18s 2s/step - loss: 0.2703 - accuracy: 0.8966 - val_loss: 1.4357 - val_accuracy: 0.7070\n",
            "Epoch 44/100\n",
            "8/8 [==============================] - 18s 2s/step - loss: 0.2137 - accuracy: 0.9066 - val_loss: 1.3447 - val_accuracy: 0.6641\n",
            "Epoch 45/100\n",
            "8/8 [==============================] - 18s 2s/step - loss: 0.2477 - accuracy: 0.8932 - val_loss: 0.3261 - val_accuracy: 0.8984\n",
            "Epoch 46/100\n",
            "8/8 [==============================] - 20s 3s/step - loss: 0.3413 - accuracy: 0.8691 - val_loss: 1.6164 - val_accuracy: 0.6484\n",
            "Epoch 47/100\n",
            "8/8 [==============================] - 21s 3s/step - loss: 0.2722 - accuracy: 0.8988 - val_loss: 1.7330 - val_accuracy: 0.6484\n",
            "Epoch 48/100\n",
            "8/8 [==============================] - 18s 2s/step - loss: 0.2172 - accuracy: 0.9221 - val_loss: 1.8101 - val_accuracy: 0.6406\n",
            "Epoch 49/100\n",
            "8/8 [==============================] - 18s 2s/step - loss: 0.2483 - accuracy: 0.8888 - val_loss: 1.5658 - val_accuracy: 0.6641\n",
            "Epoch 50/100\n",
            "8/8 [==============================] - 18s 2s/step - loss: 0.2103 - accuracy: 0.9088 - val_loss: 2.1196 - val_accuracy: 0.5781\n",
            "Epoch 51/100\n",
            "8/8 [==============================] - 18s 2s/step - loss: 0.3487 - accuracy: 0.8821 - val_loss: 1.5861 - val_accuracy: 0.6523\n",
            "Epoch 52/100\n",
            "8/8 [==============================] - 18s 2s/step - loss: 0.1784 - accuracy: 0.9244 - val_loss: 1.7003 - val_accuracy: 0.6523\n",
            "Epoch 53/100\n",
            "8/8 [==============================] - 18s 2s/step - loss: 0.2129 - accuracy: 0.9210 - val_loss: 1.8593 - val_accuracy: 0.6445\n",
            "Epoch 54/100\n",
            "8/8 [==============================] - 18s 2s/step - loss: 0.2011 - accuracy: 0.9143 - val_loss: 1.1425 - val_accuracy: 0.7266\n",
            "Epoch 55/100\n",
            "8/8 [==============================] - 20s 3s/step - loss: 0.2174 - accuracy: 0.9102 - val_loss: 1.2473 - val_accuracy: 0.7031\n",
            "Epoch 56/100\n",
            "8/8 [==============================] - 21s 3s/step - loss: 0.2479 - accuracy: 0.9088 - val_loss: 1.7073 - val_accuracy: 0.6641\n",
            "Epoch 57/100\n",
            "8/8 [==============================] - 18s 2s/step - loss: 0.1995 - accuracy: 0.9077 - val_loss: 2.1324 - val_accuracy: 0.6133\n",
            "Epoch 58/100\n",
            "8/8 [==============================] - 18s 2s/step - loss: 0.1617 - accuracy: 0.9177 - val_loss: 2.7545 - val_accuracy: 0.5820\n",
            "Epoch 59/100\n",
            "8/8 [==============================] - 18s 2s/step - loss: 0.3332 - accuracy: 0.8699 - val_loss: 1.7732 - val_accuracy: 0.6367\n",
            "Epoch 60/100\n",
            "8/8 [==============================] - 18s 2s/step - loss: 0.2316 - accuracy: 0.9032 - val_loss: 2.1363 - val_accuracy: 0.6016\n",
            "Epoch 61/100\n",
            "8/8 [==============================] - 18s 2s/step - loss: 0.1506 - accuracy: 0.9288 - val_loss: 2.2927 - val_accuracy: 0.6055\n",
            "Epoch 62/100\n",
            "8/8 [==============================] - 18s 2s/step - loss: 0.1752 - accuracy: 0.9266 - val_loss: 3.3436 - val_accuracy: 0.5469\n",
            "Epoch 63/100\n",
            "8/8 [==============================] - 18s 2s/step - loss: 0.1772 - accuracy: 0.9310 - val_loss: 1.2597 - val_accuracy: 0.7344\n",
            "Epoch 64/100\n",
            "8/8 [==============================] - 20s 3s/step - loss: 0.1801 - accuracy: 0.9209 - val_loss: 1.2243 - val_accuracy: 0.7148\n",
            "Epoch 65/100\n",
            "8/8 [==============================] - 21s 3s/step - loss: 0.2249 - accuracy: 0.9244 - val_loss: 2.1939 - val_accuracy: 0.6289\n",
            "Epoch 66/100\n",
            "8/8 [==============================] - 18s 2s/step - loss: 0.1613 - accuracy: 0.9355 - val_loss: 1.8289 - val_accuracy: 0.6992\n",
            "Epoch 67/100\n",
            "8/8 [==============================] - 18s 2s/step - loss: 0.2873 - accuracy: 0.8988 - val_loss: 1.9394 - val_accuracy: 0.5977\n",
            "Epoch 68/100\n",
            "8/8 [==============================] - 18s 2s/step - loss: 0.1818 - accuracy: 0.9333 - val_loss: 1.6817 - val_accuracy: 0.6641\n",
            "Epoch 69/100\n",
            "8/8 [==============================] - 18s 2s/step - loss: 0.1432 - accuracy: 0.9533 - val_loss: 1.9228 - val_accuracy: 0.6680\n",
            "Epoch 70/100\n",
            "8/8 [==============================] - 18s 2s/step - loss: 0.2088 - accuracy: 0.9143 - val_loss: 2.0436 - val_accuracy: 0.6328\n",
            "Epoch 71/100\n",
            "8/8 [==============================] - 18s 2s/step - loss: 0.1566 - accuracy: 0.9399 - val_loss: 1.7751 - val_accuracy: 0.6836\n",
            "Epoch 72/100\n",
            "8/8 [==============================] - 18s 2s/step - loss: 0.1492 - accuracy: 0.9355 - val_loss: 2.3597 - val_accuracy: 0.6367\n",
            "Epoch 73/100\n",
            "8/8 [==============================] - 20s 3s/step - loss: 0.2047 - accuracy: 0.9209 - val_loss: 2.6036 - val_accuracy: 0.6016\n",
            "Epoch 74/100\n",
            "8/8 [==============================] - 21s 3s/step - loss: 0.2144 - accuracy: 0.9166 - val_loss: 2.1845 - val_accuracy: 0.6562\n",
            "Epoch 75/100\n",
            "8/8 [==============================] - 18s 2s/step - loss: 0.1627 - accuracy: 0.9199 - val_loss: 1.6606 - val_accuracy: 0.6758\n",
            "Epoch 76/100\n",
            "8/8 [==============================] - 18s 2s/step - loss: 0.1337 - accuracy: 0.9388 - val_loss: 2.0764 - val_accuracy: 0.6641\n",
            "Epoch 77/100\n",
            "8/8 [==============================] - 18s 2s/step - loss: 0.1603 - accuracy: 0.9221 - val_loss: 2.8199 - val_accuracy: 0.5859\n",
            "Epoch 78/100\n",
            "8/8 [==============================] - 18s 2s/step - loss: 0.1241 - accuracy: 0.9388 - val_loss: 2.2720 - val_accuracy: 0.6680\n",
            "Epoch 79/100\n",
            "8/8 [==============================] - 18s 2s/step - loss: 0.1553 - accuracy: 0.9221 - val_loss: 1.1660 - val_accuracy: 0.7344\n",
            "Epoch 80/100\n",
            "8/8 [==============================] - 18s 2s/step - loss: 0.1460 - accuracy: 0.9344 - val_loss: 2.1487 - val_accuracy: 0.6602\n",
            "Epoch 81/100\n",
            "8/8 [==============================] - 18s 2s/step - loss: 0.1643 - accuracy: 0.9399 - val_loss: 0.6486 - val_accuracy: 0.8555\n",
            "Epoch 82/100\n",
            "8/8 [==============================] - 20s 3s/step - loss: 0.2382 - accuracy: 0.9160 - val_loss: 2.5191 - val_accuracy: 0.6289\n",
            "Epoch 83/100\n",
            "8/8 [==============================] - 21s 3s/step - loss: 0.1407 - accuracy: 0.9477 - val_loss: 3.0611 - val_accuracy: 0.6172\n",
            "Epoch 84/100\n",
            "8/8 [==============================] - 18s 2s/step - loss: 0.1165 - accuracy: 0.9555 - val_loss: 1.7550 - val_accuracy: 0.7188\n",
            "Epoch 85/100\n",
            "8/8 [==============================] - 18s 2s/step - loss: 0.1335 - accuracy: 0.9388 - val_loss: 3.0183 - val_accuracy: 0.5820\n",
            "Epoch 86/100\n",
            "8/8 [==============================] - 18s 2s/step - loss: 0.1394 - accuracy: 0.9399 - val_loss: 3.1561 - val_accuracy: 0.5938\n",
            "Epoch 87/100\n",
            "8/8 [==============================] - 18s 2s/step - loss: 0.1102 - accuracy: 0.9555 - val_loss: 2.2563 - val_accuracy: 0.6953\n",
            "Epoch 88/100\n",
            "8/8 [==============================] - 18s 2s/step - loss: 0.1435 - accuracy: 0.9355 - val_loss: 2.8225 - val_accuracy: 0.5977\n",
            "Epoch 89/100\n",
            "8/8 [==============================] - 18s 2s/step - loss: 0.1261 - accuracy: 0.9422 - val_loss: 3.0270 - val_accuracy: 0.5898\n",
            "Epoch 90/100\n",
            "8/8 [==============================] - 18s 2s/step - loss: 0.1422 - accuracy: 0.9499 - val_loss: 4.5662 - val_accuracy: 0.5078\n",
            "Epoch 91/100\n",
            "8/8 [==============================] - 20s 3s/step - loss: 0.1913 - accuracy: 0.9287 - val_loss: 2.0739 - val_accuracy: 0.6641\n",
            "Epoch 92/100\n",
            "8/8 [==============================] - 21s 3s/step - loss: 0.1096 - accuracy: 0.9577 - val_loss: 2.0436 - val_accuracy: 0.6602\n",
            "Epoch 93/100\n",
            "8/8 [==============================] - 18s 2s/step - loss: 0.1399 - accuracy: 0.9377 - val_loss: 2.8782 - val_accuracy: 0.6172\n",
            "Epoch 94/100\n",
            "8/8 [==============================] - 18s 2s/step - loss: 0.1129 - accuracy: 0.9533 - val_loss: 2.8415 - val_accuracy: 0.6094\n",
            "Epoch 95/100\n",
            "8/8 [==============================] - 18s 2s/step - loss: 0.1761 - accuracy: 0.9110 - val_loss: 3.1515 - val_accuracy: 0.5781\n",
            "Epoch 96/100\n",
            "8/8 [==============================] - 18s 2s/step - loss: 0.0797 - accuracy: 0.9766 - val_loss: 3.1532 - val_accuracy: 0.6133\n",
            "Epoch 97/100\n",
            "8/8 [==============================] - 18s 2s/step - loss: 0.1051 - accuracy: 0.9600 - val_loss: 3.1517 - val_accuracy: 0.5859\n",
            "Epoch 98/100\n",
            "8/8 [==============================] - 18s 2s/step - loss: 0.1241 - accuracy: 0.9600 - val_loss: 1.7096 - val_accuracy: 0.7227\n",
            "Epoch 99/100\n",
            "8/8 [==============================] - 18s 2s/step - loss: 0.2028 - accuracy: 0.9232 - val_loss: 3.5833 - val_accuracy: 0.5703\n",
            "Epoch 100/100\n",
            "8/8 [==============================] - 20s 3s/step - loss: 0.1164 - accuracy: 0.9570 - val_loss: 2.6688 - val_accuracy: 0.6484\n"
          ],
          "name": "stdout"
        }
      ]
    },
    {
      "cell_type": "code",
      "metadata": {
        "colab_type": "code",
        "id": "7zNPRWOVJdOH",
        "outputId": "93ec61bf-effa-4239-a7c8-e657d082b4c1",
        "colab": {
          "base_uri": "https://localhost:8080/",
          "height": 545
        }
      },
      "source": [
        "import matplotlib.pyplot as plt\n",
        "acc = history.history['accuracy']\n",
        "val_acc = history.history['val_accuracy']\n",
        "loss = history.history['loss']\n",
        "val_loss = history.history['val_loss']\n",
        "\n",
        "epochs = range(len(acc))\n",
        "\n",
        "plt.plot(epochs, acc, 'r', label='Training accuracy')\n",
        "plt.plot(epochs, val_acc, 'b', label='Validation accuracy')\n",
        "plt.title('Training and validation accuracy')\n",
        "\n",
        "plt.figure()\n",
        "\n",
        "plt.plot(epochs, loss, 'r', label='Training Loss')\n",
        "plt.plot(epochs, val_loss, 'b', label='Validation Loss')\n",
        "plt.title('Training and validation loss')\n",
        "plt.legend()\n",
        "\n",
        "plt.show()"
      ],
      "execution_count": 0,
      "outputs": [
        {
          "output_type": "display_data",
          "data": {
            "image/png": "[encoded data removed]",
            "text/plain": [
              "<Figure size 432x288 with 1 Axes>"
            ]
          },
          "metadata": {
            "tags": [],
            "needs_background": "light"
          }
        },
        {
          "output_type": "display_data",
          "data": {
            "image/png": "[encoded data removed]",
            "text/plain": [
              "<Figure size 432x288 with 1 Axes>"
            ]
          },
          "metadata": {
            "tags": [],
            "needs_background": "light"
          }
        }
      ]
    }
  ]
}